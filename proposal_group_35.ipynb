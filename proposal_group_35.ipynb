{
 "cells": [
  {
   "cell_type": "markdown",
   "id": "275d0524-e578-4074-8427-fe3e5bec354f",
   "metadata": {},
   "source": [
    "# Group 35 Project Proposal\n",
    "\n",
    "## Introduction (Linda)\n",
    "\n",
    "## Preliminary exploratory data analysis: (Arty)\n",
    "\n",
    "## Methods (Aron)\n",
    "\n",
    "## Expected outcomes and significance (Markus)\n"
   ]
  },
  {
   "cell_type": "code",
   "execution_count": null,
   "id": "4267ae55-30da-4d66-845b-2af98dc5ed8c",
   "metadata": {},
   "outputs": [],
   "source": []
  }
 ],
 "metadata": {
  "kernelspec": {
   "display_name": "R",
   "language": "R",
   "name": "ir"
  },
  "language_info": {
   "codemirror_mode": "r",
   "file_extension": ".r",
   "mimetype": "text/x-r-source",
   "name": "R",
   "pygments_lexer": "r",
   "version": "4.2.2"
  }
 },
 "nbformat": 4,
 "nbformat_minor": 5
}
