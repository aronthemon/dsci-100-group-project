{
 "cells": [
  {
   "cell_type": "markdown",
   "id": "275d0524-e578-4074-8427-fe3e5bec354f",
   "metadata": {},
   "source": [
    "# Group 35 Project Proposal\n",
    "\n",
    "## Introduction (Linda)"
   ]
  },
  {
   "cell_type": "markdown",
   "id": "00acc7ba-8cbf-46e0-8377-0610f1561607",
   "metadata": {},
   "source": [
    "## Preliminary exploratory data analysis: (Arthur)"
   ]
  },
  {
   "cell_type": "code",
   "execution_count": 11,
   "id": "f4829f36-4aa6-4ce5-a71b-51ba24e8279e",
   "metadata": {
    "tags": []
   },
   "outputs": [
    {
     "name": "stderr",
     "output_type": "stream",
     "text": [
      "\u001b[1mRows: \u001b[22m\u001b[34m17898\u001b[39m \u001b[1mColumns: \u001b[22m\u001b[34m9\u001b[39m\n",
      "\u001b[36m──\u001b[39m \u001b[1mColumn specification\u001b[22m \u001b[36m────────────────────────────────────────────────────────\u001b[39m\n",
      "\u001b[1mDelimiter:\u001b[22m \",\"\n",
      "\u001b[32mdbl\u001b[39m (9): mean, std_dev, excess_kurtosis, skewness, dm_snr_mean, dm_snr_std_d...\n",
      "\n",
      "\u001b[36mℹ\u001b[39m Use `spec()` to retrieve the full column specification for this data.\n",
      "\u001b[36mℹ\u001b[39m Specify the column types or set `show_col_types = FALSE` to quiet this message.\n"
     ]
    },
    {
     "data": {
      "text/html": [
       "<table class=\"dataframe\">\n",
       "<caption>A tibble: 6 × 9</caption>\n",
       "<thead>\n",
       "\t<tr><th scope=col>mean</th><th scope=col>std_dev</th><th scope=col>excess_kurtosis</th><th scope=col>skewness</th><th scope=col>dm_snr_mean</th><th scope=col>dm_snr_std_dev</th><th scope=col>dm_snr_excess_kurtosis</th><th scope=col>dm_snr_skewness</th><th scope=col>zeros</th></tr>\n",
       "\t<tr><th scope=col>&lt;dbl&gt;</th><th scope=col>&lt;dbl&gt;</th><th scope=col>&lt;dbl&gt;</th><th scope=col>&lt;dbl&gt;</th><th scope=col>&lt;dbl&gt;</th><th scope=col>&lt;dbl&gt;</th><th scope=col>&lt;dbl&gt;</th><th scope=col>&lt;dbl&gt;</th><th scope=col>&lt;dbl&gt;</th></tr>\n",
       "</thead>\n",
       "<tbody>\n",
       "\t<tr><td>140.56250</td><td>55.68378</td><td>-0.23457141</td><td>-0.6996484</td><td>3.199833</td><td>19.11043</td><td> 7.975532</td><td> 74.24222</td><td>0</td></tr>\n",
       "\t<tr><td>102.50781</td><td>58.88243</td><td> 0.46531815</td><td>-0.5150879</td><td>1.677258</td><td>14.86015</td><td>10.576487</td><td>127.39358</td><td>0</td></tr>\n",
       "\t<tr><td>103.01562</td><td>39.34165</td><td> 0.32332837</td><td> 1.0511644</td><td>3.121237</td><td>21.74467</td><td> 7.735822</td><td> 63.17191</td><td>0</td></tr>\n",
       "\t<tr><td>136.75000</td><td>57.17845</td><td>-0.06841464</td><td>-0.6362384</td><td>3.642977</td><td>20.95928</td><td> 6.896499</td><td> 53.59366</td><td>0</td></tr>\n",
       "\t<tr><td> 88.72656</td><td>40.67223</td><td> 0.60086608</td><td> 1.1234917</td><td>1.178930</td><td>11.46872</td><td>14.269573</td><td>252.56731</td><td>0</td></tr>\n",
       "\t<tr><td> 93.57031</td><td>46.69811</td><td> 0.53190485</td><td> 0.4167211</td><td>1.636288</td><td>14.54507</td><td>10.621748</td><td>131.39400</td><td>0</td></tr>\n",
       "</tbody>\n",
       "</table>\n"
      ],
      "text/latex": [
       "A tibble: 6 × 9\n",
       "\\begin{tabular}{lllllllll}\n",
       " mean & std\\_dev & excess\\_kurtosis & skewness & dm\\_snr\\_mean & dm\\_snr\\_std\\_dev & dm\\_snr\\_excess\\_kurtosis & dm\\_snr\\_skewness & zeros\\\\\n",
       " <dbl> & <dbl> & <dbl> & <dbl> & <dbl> & <dbl> & <dbl> & <dbl> & <dbl>\\\\\n",
       "\\hline\n",
       "\t 140.56250 & 55.68378 & -0.23457141 & -0.6996484 & 3.199833 & 19.11043 &  7.975532 &  74.24222 & 0\\\\\n",
       "\t 102.50781 & 58.88243 &  0.46531815 & -0.5150879 & 1.677258 & 14.86015 & 10.576487 & 127.39358 & 0\\\\\n",
       "\t 103.01562 & 39.34165 &  0.32332837 &  1.0511644 & 3.121237 & 21.74467 &  7.735822 &  63.17191 & 0\\\\\n",
       "\t 136.75000 & 57.17845 & -0.06841464 & -0.6362384 & 3.642977 & 20.95928 &  6.896499 &  53.59366 & 0\\\\\n",
       "\t  88.72656 & 40.67223 &  0.60086608 &  1.1234917 & 1.178930 & 11.46872 & 14.269573 & 252.56731 & 0\\\\\n",
       "\t  93.57031 & 46.69811 &  0.53190485 &  0.4167211 & 1.636288 & 14.54507 & 10.621748 & 131.39400 & 0\\\\\n",
       "\\end{tabular}\n"
      ],
      "text/markdown": [
       "\n",
       "A tibble: 6 × 9\n",
       "\n",
       "| mean &lt;dbl&gt; | std_dev &lt;dbl&gt; | excess_kurtosis &lt;dbl&gt; | skewness &lt;dbl&gt; | dm_snr_mean &lt;dbl&gt; | dm_snr_std_dev &lt;dbl&gt; | dm_snr_excess_kurtosis &lt;dbl&gt; | dm_snr_skewness &lt;dbl&gt; | zeros &lt;dbl&gt; |\n",
       "|---|---|---|---|---|---|---|---|---|\n",
       "| 140.56250 | 55.68378 | -0.23457141 | -0.6996484 | 3.199833 | 19.11043 |  7.975532 |  74.24222 | 0 |\n",
       "| 102.50781 | 58.88243 |  0.46531815 | -0.5150879 | 1.677258 | 14.86015 | 10.576487 | 127.39358 | 0 |\n",
       "| 103.01562 | 39.34165 |  0.32332837 |  1.0511644 | 3.121237 | 21.74467 |  7.735822 |  63.17191 | 0 |\n",
       "| 136.75000 | 57.17845 | -0.06841464 | -0.6362384 | 3.642977 | 20.95928 |  6.896499 |  53.59366 | 0 |\n",
       "|  88.72656 | 40.67223 |  0.60086608 |  1.1234917 | 1.178930 | 11.46872 | 14.269573 | 252.56731 | 0 |\n",
       "|  93.57031 | 46.69811 |  0.53190485 |  0.4167211 | 1.636288 | 14.54507 | 10.621748 | 131.39400 | 0 |\n",
       "\n"
      ],
      "text/plain": [
       "  mean      std_dev  excess_kurtosis skewness   dm_snr_mean dm_snr_std_dev\n",
       "1 140.56250 55.68378 -0.23457141     -0.6996484 3.199833    19.11043      \n",
       "2 102.50781 58.88243  0.46531815     -0.5150879 1.677258    14.86015      \n",
       "3 103.01562 39.34165  0.32332837      1.0511644 3.121237    21.74467      \n",
       "4 136.75000 57.17845 -0.06841464     -0.6362384 3.642977    20.95928      \n",
       "5  88.72656 40.67223  0.60086608      1.1234917 1.178930    11.46872      \n",
       "6  93.57031 46.69811  0.53190485      0.4167211 1.636288    14.54507      \n",
       "  dm_snr_excess_kurtosis dm_snr_skewness zeros\n",
       "1  7.975532               74.24222       0    \n",
       "2 10.576487              127.39358       0    \n",
       "3  7.735822               63.17191       0    \n",
       "4  6.896499               53.59366       0    \n",
       "5 14.269573              252.56731       0    \n",
       "6 10.621748              131.39400       0    "
      ]
     },
     "metadata": {},
     "output_type": "display_data"
    }
   ],
   "source": [
    "library(tidyverse)\n",
    "\n",
    "# Read data from the dataset's CSV file\n",
    "# Add column names based on the documention in readme.txt\n",
    "pulsar_data <- read_csv('data/HTRU_2.csv', col_names= c(\"mean\", \"std_dev\", \"excess_kurtosis\", \"skewness\", \"dm_snr_mean\", \"dm_snr_std_dev\", \"dm_snr_excess_kurtosis\", \"dm_snr_skewness\", \"zeros\"))\n",
    "\n",
    "head(pulsar_data, 6)"
   ]
  },
  {
   "cell_type": "markdown",
   "id": "54ef0195-ebd1-4709-9078-dbbf02946c0b",
   "metadata": {},
   "source": [
    "## Methods (Aron)"
   ]
  },
  {
   "cell_type": "markdown",
   "id": "470905ff-7e6d-4275-ad83-44109763de82",
   "metadata": {},
   "source": [
    "## Expected outcomes and significance (Markus)"
   ]
  },
  {
   "cell_type": "code",
   "execution_count": null,
   "id": "8444fd3e-8d3f-4e49-b25b-e8d761e3490e",
   "metadata": {},
   "outputs": [],
   "source": []
  }
 ],
 "metadata": {
  "kernelspec": {
   "display_name": "R",
   "language": "R",
   "name": "ir"
  },
  "language_info": {
   "codemirror_mode": "r",
   "file_extension": ".r",
   "mimetype": "text/x-r-source",
   "name": "R",
   "pygments_lexer": "r",
   "version": "4.2.2"
  }
 },
 "nbformat": 4,
 "nbformat_minor": 5
}
