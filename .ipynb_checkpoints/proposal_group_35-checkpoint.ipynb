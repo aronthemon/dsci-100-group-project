{
 "cells": [
  {
   "cell_type": "markdown",
   "id": "275d0524-e578-4074-8427-fe3e5bec354f",
   "metadata": {},
   "source": [
    "# Group 35 Project Proposal\n",
    "\n",
    "## Introduction (Linda)"
   ]
  },
  {
   "cell_type": "markdown",
   "id": "67fdc255-d232-4543-b9d4-1391cede9638",
   "metadata": {},
   "source": [
    "Pulsars are rotating neutron stars. They produce radio emissions in a beam that can be detected when it sweeps past the Earth. However, not all such signals come from pulsars. Machine learning can be used in conjunction with radio emissions data to help distinguish pulsars based on these signals. \n",
    "\n",
    "In this project, we will train a model to use the K-nearest neighbours algorithm to perform binary classification on radio emissions data, so that it is capable of predicting whether a signal originates from a pulsar star based on its characteristics. The dataset that will be used to train and test this model is the HTRU2 dataset contributed to the University of Irvine Machine Learning Repository by Robert Lyon, which contains 17 898 observations of radio emissions, 1 639 of which come from pulsars and 16 259 of which do not. For each observation, a variable representing its true origin (pulsar or not) is recorded, along with 8 continuous variables describing features of the signal. Thus, both a class variable and 8 potential predictor variables are present in this dataset."
   ]
  },
  {
   "cell_type": "markdown",
   "id": "00acc7ba-8cbf-46e0-8377-0610f1561607",
   "metadata": {},
   "source": [
    "## Preliminary exploratory data analysis: (Arthur)\n",
    "\n",
    "The data for this specific dataset is provided in both CSV and ARFF formats. We have opted to use the the provided CSV which comes without column names, however the columns and the data contained within are described in the Readme.txt file. Thus, we can add the column names ourselves directly. The column names are:\n",
    "* Mean of the integrated profile.\n",
    "* Standard deviation of the integrated profile.\n",
    "* Excess kurtosis of the integrated profile.\n",
    "* Skewness of the integrated profile.\n",
    "* Mean of the DM-SNR curve.\n",
    "* Standard deviation of the DM-SNR curve.\n",
    "* Excess kurtosis of the DM-SNR curve.\n",
    "* Skewness of the DM-SNR curve.\n",
    "* Pulsar Classifier"
   ]
  },
  {
   "cell_type": "code",
   "execution_count": 5,
   "id": "bbd5fe6a-d77d-4019-9aa7-0e3229cb88c7",
   "metadata": {
    "tags": []
   },
   "outputs": [],
   "source": [
    "# Load necessary libraries\n",
    "library(tidyverse)"
   ]
  },
  {
   "cell_type": "code",
   "execution_count": 9,
   "id": "f4829f36-4aa6-4ce5-a71b-51ba24e8279e",
   "metadata": {
    "tags": []
   },
   "outputs": [
    {
     "name": "stderr",
     "output_type": "stream",
     "text": [
      "\u001b[1mRows: \u001b[22m\u001b[34m17898\u001b[39m \u001b[1mColumns: \u001b[22m\u001b[34m9\u001b[39m\n",
      "\u001b[36m──\u001b[39m \u001b[1mColumn specification\u001b[22m \u001b[36m────────────────────────────────────────────────────────\u001b[39m\n",
      "\u001b[1mDelimiter:\u001b[22m \",\"\n",
      "\u001b[32mdbl\u001b[39m (9): ip_mean, ip_std_dev, ip_excess_kurtosis, ip_skewness, dm_snr_mean, ...\n",
      "\n",
      "\u001b[36mℹ\u001b[39m Use `spec()` to retrieve the full column specification for this data.\n",
      "\u001b[36mℹ\u001b[39m Specify the column types or set `show_col_types = FALSE` to quiet this message.\n"
     ]
    },
    {
     "data": {
      "text/html": [
       "<table class=\"dataframe\">\n",
       "<caption>A tibble: 6 × 9</caption>\n",
       "<thead>\n",
       "\t<tr><th scope=col>ip_mean</th><th scope=col>ip_std_dev</th><th scope=col>ip_excess_kurtosis</th><th scope=col>ip_skewness</th><th scope=col>dm_snr_mean</th><th scope=col>dm_snr_std_dev</th><th scope=col>dm_snr_excess_kurtosis</th><th scope=col>dm_snr_skewness</th><th scope=col>pulsar</th></tr>\n",
       "\t<tr><th scope=col>&lt;dbl&gt;</th><th scope=col>&lt;dbl&gt;</th><th scope=col>&lt;dbl&gt;</th><th scope=col>&lt;dbl&gt;</th><th scope=col>&lt;dbl&gt;</th><th scope=col>&lt;dbl&gt;</th><th scope=col>&lt;dbl&gt;</th><th scope=col>&lt;dbl&gt;</th><th scope=col>&lt;fct&gt;</th></tr>\n",
       "</thead>\n",
       "<tbody>\n",
       "\t<tr><td>140.56250</td><td>55.68378</td><td>-0.23457141</td><td>-0.6996484</td><td>3.199833</td><td>19.11043</td><td> 7.975532</td><td> 74.24222</td><td>0</td></tr>\n",
       "\t<tr><td>102.50781</td><td>58.88243</td><td> 0.46531815</td><td>-0.5150879</td><td>1.677258</td><td>14.86015</td><td>10.576487</td><td>127.39358</td><td>0</td></tr>\n",
       "\t<tr><td>103.01562</td><td>39.34165</td><td> 0.32332837</td><td> 1.0511644</td><td>3.121237</td><td>21.74467</td><td> 7.735822</td><td> 63.17191</td><td>0</td></tr>\n",
       "\t<tr><td>136.75000</td><td>57.17845</td><td>-0.06841464</td><td>-0.6362384</td><td>3.642977</td><td>20.95928</td><td> 6.896499</td><td> 53.59366</td><td>0</td></tr>\n",
       "\t<tr><td> 88.72656</td><td>40.67223</td><td> 0.60086608</td><td> 1.1234917</td><td>1.178930</td><td>11.46872</td><td>14.269573</td><td>252.56731</td><td>0</td></tr>\n",
       "\t<tr><td> 93.57031</td><td>46.69811</td><td> 0.53190485</td><td> 0.4167211</td><td>1.636288</td><td>14.54507</td><td>10.621748</td><td>131.39400</td><td>0</td></tr>\n",
       "</tbody>\n",
       "</table>\n"
      ],
      "text/latex": [
       "A tibble: 6 × 9\n",
       "\\begin{tabular}{lllllllll}\n",
       " ip\\_mean & ip\\_std\\_dev & ip\\_excess\\_kurtosis & ip\\_skewness & dm\\_snr\\_mean & dm\\_snr\\_std\\_dev & dm\\_snr\\_excess\\_kurtosis & dm\\_snr\\_skewness & pulsar\\\\\n",
       " <dbl> & <dbl> & <dbl> & <dbl> & <dbl> & <dbl> & <dbl> & <dbl> & <fct>\\\\\n",
       "\\hline\n",
       "\t 140.56250 & 55.68378 & -0.23457141 & -0.6996484 & 3.199833 & 19.11043 &  7.975532 &  74.24222 & 0\\\\\n",
       "\t 102.50781 & 58.88243 &  0.46531815 & -0.5150879 & 1.677258 & 14.86015 & 10.576487 & 127.39358 & 0\\\\\n",
       "\t 103.01562 & 39.34165 &  0.32332837 &  1.0511644 & 3.121237 & 21.74467 &  7.735822 &  63.17191 & 0\\\\\n",
       "\t 136.75000 & 57.17845 & -0.06841464 & -0.6362384 & 3.642977 & 20.95928 &  6.896499 &  53.59366 & 0\\\\\n",
       "\t  88.72656 & 40.67223 &  0.60086608 &  1.1234917 & 1.178930 & 11.46872 & 14.269573 & 252.56731 & 0\\\\\n",
       "\t  93.57031 & 46.69811 &  0.53190485 &  0.4167211 & 1.636288 & 14.54507 & 10.621748 & 131.39400 & 0\\\\\n",
       "\\end{tabular}\n"
      ],
      "text/markdown": [
       "\n",
       "A tibble: 6 × 9\n",
       "\n",
       "| ip_mean &lt;dbl&gt; | ip_std_dev &lt;dbl&gt; | ip_excess_kurtosis &lt;dbl&gt; | ip_skewness &lt;dbl&gt; | dm_snr_mean &lt;dbl&gt; | dm_snr_std_dev &lt;dbl&gt; | dm_snr_excess_kurtosis &lt;dbl&gt; | dm_snr_skewness &lt;dbl&gt; | pulsar &lt;fct&gt; |\n",
       "|---|---|---|---|---|---|---|---|---|\n",
       "| 140.56250 | 55.68378 | -0.23457141 | -0.6996484 | 3.199833 | 19.11043 |  7.975532 |  74.24222 | 0 |\n",
       "| 102.50781 | 58.88243 |  0.46531815 | -0.5150879 | 1.677258 | 14.86015 | 10.576487 | 127.39358 | 0 |\n",
       "| 103.01562 | 39.34165 |  0.32332837 |  1.0511644 | 3.121237 | 21.74467 |  7.735822 |  63.17191 | 0 |\n",
       "| 136.75000 | 57.17845 | -0.06841464 | -0.6362384 | 3.642977 | 20.95928 |  6.896499 |  53.59366 | 0 |\n",
       "|  88.72656 | 40.67223 |  0.60086608 |  1.1234917 | 1.178930 | 11.46872 | 14.269573 | 252.56731 | 0 |\n",
       "|  93.57031 | 46.69811 |  0.53190485 |  0.4167211 | 1.636288 | 14.54507 | 10.621748 | 131.39400 | 0 |\n",
       "\n"
      ],
      "text/plain": [
       "  ip_mean   ip_std_dev ip_excess_kurtosis ip_skewness dm_snr_mean\n",
       "1 140.56250 55.68378   -0.23457141        -0.6996484  3.199833   \n",
       "2 102.50781 58.88243    0.46531815        -0.5150879  1.677258   \n",
       "3 103.01562 39.34165    0.32332837         1.0511644  3.121237   \n",
       "4 136.75000 57.17845   -0.06841464        -0.6362384  3.642977   \n",
       "5  88.72656 40.67223    0.60086608         1.1234917  1.178930   \n",
       "6  93.57031 46.69811    0.53190485         0.4167211  1.636288   \n",
       "  dm_snr_std_dev dm_snr_excess_kurtosis dm_snr_skewness pulsar\n",
       "1 19.11043        7.975532               74.24222       0     \n",
       "2 14.86015       10.576487              127.39358       0     \n",
       "3 21.74467        7.735822               63.17191       0     \n",
       "4 20.95928        6.896499               53.59366       0     \n",
       "5 11.46872       14.269573              252.56731       0     \n",
       "6 14.54507       10.621748              131.39400       0     "
      ]
     },
     "metadata": {},
     "output_type": "display_data"
    }
   ],
   "source": [
    "data_url <-'https://raw.githubusercontent.com/aronthemon/dsci-100-group-project/main/data/HTRU_2.csv'\n",
    "\n",
    "# Read data from the dataset's CSV file\n",
    "# Add column names based on the documention in readme.txt\n",
    "# Convert the pulsar binary classification to a factor so it can be used later.\n",
    "pulsar_data <- read_csv(data_url, \n",
    "                        col_names= c(\n",
    "                            \"ip_mean\", \n",
    "                            \"ip_std_dev\", \n",
    "                            \"ip_excess_kurtosis\", \n",
    "                            \"ip_skewness\", \n",
    "                            \"dm_snr_mean\", \n",
    "                            \"dm_snr_std_dev\", \n",
    "                            \"dm_snr_excess_kurtosis\", \n",
    "                            \"dm_snr_skewness\", \n",
    "                            \"pulsar\")) |>\n",
    "                mutate(pulsar = as_factor(pulsar))\n",
    "\n",
    "# Display the first 6 rows of our data\n",
    "head(pulsar_data, 6)"
   ]
  },
  {
   "cell_type": "markdown",
   "id": "54ef0195-ebd1-4709-9078-dbbf02946c0b",
   "metadata": {
    "tags": []
   },
   "source": [
    "## Methods (Aaron)\n",
    "\n",
    "We will conduct our data analysis by using cross-validation to determine the best k value. Then, we will use that k value to create the KNN classification model that is able to predict the classes of new observations of possible pulsars. We will be using all of the variables in the data set, so that we can give the model more data to work with, so that it can classify new observations better.\n",
    "\n",
    "One way that we will be visualizing our results is by using many histograms, to plot every variable as its own histogram, and use colour on the histogram to distinguish if the observation is a pulsar or not.\n"
   ]
  },
  {
   "cell_type": "markdown",
   "id": "470905ff-7e6d-4275-ad83-44109763de82",
   "metadata": {},
   "source": [
    "## Expected outcomes and significance (Markus)"
   ]
  },
  {
   "cell_type": "markdown",
   "id": "d93418cb-c2c8-4695-9934-6c36cfb0f958",
   "metadata": {},
   "source": [
    "We expect to create an algorithm which can accurately predict whether or not a stellar object is a pulsar. Any new observation created will be analyzed to produce a predicted class. The model will produce a scatter plot of the data as displayed by 2 indicator variables. This plot will then show how the K-NN algorithm determined the pulsar status of a new point.\n",
    "\n",
    "The significance of the project is that we will be able to determine which parameters are indicative of pulsar status, as well as how to classify every future observation. This could be used in astronomy labs.\n",
    "\n",
    "This project may lead to future classification questions, including which astronomical parameters are necessary to classify any number of astronomical objects. "
   ]
  },
  {
   "cell_type": "code",
   "execution_count": null,
   "id": "9f07cebb-db38-4e4f-821d-9f1db9b29e0c",
   "metadata": {},
   "outputs": [],
   "source": []
  }
 ],
 "metadata": {
  "kernelspec": {
   "display_name": "R",
   "language": "R",
   "name": "ir"
  },
  "language_info": {
   "codemirror_mode": "r",
   "file_extension": ".r",
   "mimetype": "text/x-r-source",
   "name": "R",
   "pygments_lexer": "r",
   "version": "4.2.2"
  }
 },
 "nbformat": 4,
 "nbformat_minor": 5
}
