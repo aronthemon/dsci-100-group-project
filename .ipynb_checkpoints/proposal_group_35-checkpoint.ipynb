{
 "cells": [
  {
   "cell_type": "markdown",
   "id": "275d0524-e578-4074-8427-fe3e5bec354f",
   "metadata": {},
   "source": [
    "# Group 35 Project Proposal\n",
    "\n",
    "## Introduction (Linda)"
   ]
  },
  {
   "cell_type": "markdown",
   "id": "00acc7ba-8cbf-46e0-8377-0610f1561607",
   "metadata": {},
   "source": [
    "## Preliminary exploratory data analysis: (Arty)"
   ]
  },
  {
   "cell_type": "markdown",
   "id": "2c23cafd-aeeb-49a2-9ab0-c1a119692242",
   "metadata": {},
   "source": [
    "## Methods (Aron)"
   ]
  },
  {
   "cell_type": "markdown",
   "id": "470905ff-7e6d-4275-ad83-44109763de82",
   "metadata": {},
   "source": [
    "## Expected outcomes and significance (Markus)"
   ]
  },
  {
   "cell_type": "code",
   "execution_count": null,
   "id": "8444fd3e-8d3f-4e49-b25b-e8d761e3490e",
   "metadata": {},
   "outputs": [],
   "source": []
  }
 ],
 "metadata": {
  "kernelspec": {
   "display_name": "R",
   "language": "R",
   "name": "ir"
  },
  "language_info": {
   "codemirror_mode": "r",
   "file_extension": ".r",
   "mimetype": "text/x-r-source",
   "name": "R",
   "pygments_lexer": "r",
   "version": "4.2.2"
  }
 },
 "nbformat": 4,
 "nbformat_minor": 5
}
